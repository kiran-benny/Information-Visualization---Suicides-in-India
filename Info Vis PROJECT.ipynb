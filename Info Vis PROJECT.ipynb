{
 "cells": [
  {
   "cell_type": "code",
   "execution_count": 1,
   "metadata": {},
   "outputs": [],
   "source": [
    "suicide_filepath = \"master.csv\"\n",
    "suicides = read.csv(suicide_filepath)"
   ]
  },
  {
   "cell_type": "code",
   "execution_count": 2,
   "metadata": {},
   "outputs": [
    {
     "data": {
      "text/html": [
       "<table class=\"dataframe\">\n",
       "<caption>A data.frame: 6 × 12</caption>\n",
       "<thead>\n",
       "\t<tr><th></th><th scope=col>ï..country</th><th scope=col>year</th><th scope=col>sex</th><th scope=col>age</th><th scope=col>suicides_no</th><th scope=col>population</th><th scope=col>suicides.100k.pop</th><th scope=col>country.year</th><th scope=col>HDI.for.year</th><th scope=col>gdp_for_year....</th><th scope=col>gdp_per_capita....</th><th scope=col>generation</th></tr>\n",
       "\t<tr><th></th><th scope=col>&lt;chr&gt;</th><th scope=col>&lt;int&gt;</th><th scope=col>&lt;chr&gt;</th><th scope=col>&lt;chr&gt;</th><th scope=col>&lt;int&gt;</th><th scope=col>&lt;int&gt;</th><th scope=col>&lt;dbl&gt;</th><th scope=col>&lt;chr&gt;</th><th scope=col>&lt;dbl&gt;</th><th scope=col>&lt;chr&gt;</th><th scope=col>&lt;int&gt;</th><th scope=col>&lt;chr&gt;</th></tr>\n",
       "</thead>\n",
       "<tbody>\n",
       "\t<tr><th scope=row>1</th><td>Albania</td><td>1987</td><td>male  </td><td>15-24 years</td><td>21</td><td>312900</td><td>6.71</td><td>Albania1987</td><td>NA</td><td>2,156,624,900</td><td>796</td><td>Generation X   </td></tr>\n",
       "\t<tr><th scope=row>2</th><td>Albania</td><td>1987</td><td>male  </td><td>35-54 years</td><td>16</td><td>308000</td><td>5.19</td><td>Albania1987</td><td>NA</td><td>2,156,624,900</td><td>796</td><td>Silent         </td></tr>\n",
       "\t<tr><th scope=row>3</th><td>Albania</td><td>1987</td><td>female</td><td>15-24 years</td><td>14</td><td>289700</td><td>4.83</td><td>Albania1987</td><td>NA</td><td>2,156,624,900</td><td>796</td><td>Generation X   </td></tr>\n",
       "\t<tr><th scope=row>4</th><td>Albania</td><td>1987</td><td>male  </td><td>75+ years  </td><td> 1</td><td> 21800</td><td>4.59</td><td>Albania1987</td><td>NA</td><td>2,156,624,900</td><td>796</td><td>G.I. Generation</td></tr>\n",
       "\t<tr><th scope=row>5</th><td>Albania</td><td>1987</td><td>male  </td><td>25-34 years</td><td> 9</td><td>274300</td><td>3.28</td><td>Albania1987</td><td>NA</td><td>2,156,624,900</td><td>796</td><td>Boomers        </td></tr>\n",
       "\t<tr><th scope=row>6</th><td>Albania</td><td>1987</td><td>female</td><td>75+ years  </td><td> 1</td><td> 35600</td><td>2.81</td><td>Albania1987</td><td>NA</td><td>2,156,624,900</td><td>796</td><td>G.I. Generation</td></tr>\n",
       "</tbody>\n",
       "</table>\n"
      ],
      "text/latex": [
       "A data.frame: 6 × 12\n",
       "\\begin{tabular}{r|llllllllllll}\n",
       "  & ï..country & year & sex & age & suicides\\_no & population & suicides.100k.pop & country.year & HDI.for.year & gdp\\_for\\_year.... & gdp\\_per\\_capita.... & generation\\\\\n",
       "  & <chr> & <int> & <chr> & <chr> & <int> & <int> & <dbl> & <chr> & <dbl> & <chr> & <int> & <chr>\\\\\n",
       "\\hline\n",
       "\t1 & Albania & 1987 & male   & 15-24 years & 21 & 312900 & 6.71 & Albania1987 & NA & 2,156,624,900 & 796 & Generation X   \\\\\n",
       "\t2 & Albania & 1987 & male   & 35-54 years & 16 & 308000 & 5.19 & Albania1987 & NA & 2,156,624,900 & 796 & Silent         \\\\\n",
       "\t3 & Albania & 1987 & female & 15-24 years & 14 & 289700 & 4.83 & Albania1987 & NA & 2,156,624,900 & 796 & Generation X   \\\\\n",
       "\t4 & Albania & 1987 & male   & 75+ years   &  1 &  21800 & 4.59 & Albania1987 & NA & 2,156,624,900 & 796 & G.I. Generation\\\\\n",
       "\t5 & Albania & 1987 & male   & 25-34 years &  9 & 274300 & 3.28 & Albania1987 & NA & 2,156,624,900 & 796 & Boomers        \\\\\n",
       "\t6 & Albania & 1987 & female & 75+ years   &  1 &  35600 & 2.81 & Albania1987 & NA & 2,156,624,900 & 796 & G.I. Generation\\\\\n",
       "\\end{tabular}\n"
      ],
      "text/markdown": [
       "\n",
       "A data.frame: 6 × 12\n",
       "\n",
       "| <!--/--> | ï..country &lt;chr&gt; | year &lt;int&gt; | sex &lt;chr&gt; | age &lt;chr&gt; | suicides_no &lt;int&gt; | population &lt;int&gt; | suicides.100k.pop &lt;dbl&gt; | country.year &lt;chr&gt; | HDI.for.year &lt;dbl&gt; | gdp_for_year.... &lt;chr&gt; | gdp_per_capita.... &lt;int&gt; | generation &lt;chr&gt; |\n",
       "|---|---|---|---|---|---|---|---|---|---|---|---|---|\n",
       "| 1 | Albania | 1987 | male   | 15-24 years | 21 | 312900 | 6.71 | Albania1987 | NA | 2,156,624,900 | 796 | Generation X    |\n",
       "| 2 | Albania | 1987 | male   | 35-54 years | 16 | 308000 | 5.19 | Albania1987 | NA | 2,156,624,900 | 796 | Silent          |\n",
       "| 3 | Albania | 1987 | female | 15-24 years | 14 | 289700 | 4.83 | Albania1987 | NA | 2,156,624,900 | 796 | Generation X    |\n",
       "| 4 | Albania | 1987 | male   | 75+ years   |  1 |  21800 | 4.59 | Albania1987 | NA | 2,156,624,900 | 796 | G.I. Generation |\n",
       "| 5 | Albania | 1987 | male   | 25-34 years |  9 | 274300 | 3.28 | Albania1987 | NA | 2,156,624,900 | 796 | Boomers         |\n",
       "| 6 | Albania | 1987 | female | 75+ years   |  1 |  35600 | 2.81 | Albania1987 | NA | 2,156,624,900 | 796 | G.I. Generation |\n",
       "\n"
      ],
      "text/plain": [
       "  ï..country year sex    age         suicides_no population suicides.100k.pop\n",
       "1 Albania    1987 male   15-24 years 21          312900     6.71             \n",
       "2 Albania    1987 male   35-54 years 16          308000     5.19             \n",
       "3 Albania    1987 female 15-24 years 14          289700     4.83             \n",
       "4 Albania    1987 male   75+ years    1           21800     4.59             \n",
       "5 Albania    1987 male   25-34 years  9          274300     3.28             \n",
       "6 Albania    1987 female 75+ years    1           35600     2.81             \n",
       "  country.year HDI.for.year gdp_for_year.... gdp_per_capita.... generation     \n",
       "1 Albania1987  NA           2,156,624,900    796                Generation X   \n",
       "2 Albania1987  NA           2,156,624,900    796                Silent         \n",
       "3 Albania1987  NA           2,156,624,900    796                Generation X   \n",
       "4 Albania1987  NA           2,156,624,900    796                G.I. Generation\n",
       "5 Albania1987  NA           2,156,624,900    796                Boomers        \n",
       "6 Albania1987  NA           2,156,624,900    796                G.I. Generation"
      ]
     },
     "metadata": {},
     "output_type": "display_data"
    }
   ],
   "source": [
    "head(suicides)"
   ]
  },
  {
   "cell_type": "code",
   "execution_count": 3,
   "metadata": {},
   "outputs": [
    {
     "data": {
      "text/html": [
       "'data.frame'"
      ],
      "text/latex": [
       "'data.frame'"
      ],
      "text/markdown": [
       "'data.frame'"
      ],
      "text/plain": [
       "[1] \"data.frame\""
      ]
     },
     "metadata": {},
     "output_type": "display_data"
    }
   ],
   "source": [
    "class(suicides)"
   ]
  },
  {
   "cell_type": "code",
   "execution_count": 4,
   "metadata": {},
   "outputs": [
    {
     "data": {
      "text/html": [
       "<style>\n",
       ".list-inline {list-style: none; margin:0; padding: 0}\n",
       ".list-inline>li {display: inline-block}\n",
       ".list-inline>li:not(:last-child)::after {content: \"\\00b7\"; padding: 0 .5ex}\n",
       "</style>\n",
       "<ol class=list-inline><li>27820</li><li>12</li></ol>\n"
      ],
      "text/latex": [
       "\\begin{enumerate*}\n",
       "\\item 27820\n",
       "\\item 12\n",
       "\\end{enumerate*}\n"
      ],
      "text/markdown": [
       "1. 27820\n",
       "2. 12\n",
       "\n",
       "\n"
      ],
      "text/plain": [
       "[1] 27820    12"
      ]
     },
     "metadata": {},
     "output_type": "display_data"
    }
   ],
   "source": [
    "dim(suicides) # dimension of the data frame"
   ]
  },
  {
   "cell_type": "markdown",
   "metadata": {},
   "source": [
    "That is 27820 rows and 12 columns"
   ]
  },
  {
   "cell_type": "code",
   "execution_count": 5,
   "metadata": {},
   "outputs": [
    {
     "name": "stdout",
     "output_type": "stream",
     "text": [
      "'data.frame':\t27820 obs. of  12 variables:\n",
      " $ ï..country        : chr  \"Albania\" \"Albania\" \"Albania\" \"Albania\" ...\n",
      " $ year              : int  1987 1987 1987 1987 1987 1987 1987 1987 1987 1987 ...\n",
      " $ sex               : chr  \"male\" \"male\" \"female\" \"male\" ...\n",
      " $ age               : chr  \"15-24 years\" \"35-54 years\" \"15-24 years\" \"75+ years\" ...\n",
      " $ suicides_no       : int  21 16 14 1 9 1 6 4 1 0 ...\n",
      " $ population        : int  312900 308000 289700 21800 274300 35600 278800 257200 137500 311000 ...\n",
      " $ suicides.100k.pop : num  6.71 5.19 4.83 4.59 3.28 2.81 2.15 1.56 0.73 0 ...\n",
      " $ country.year      : chr  \"Albania1987\" \"Albania1987\" \"Albania1987\" \"Albania1987\" ...\n",
      " $ HDI.for.year      : num  NA NA NA NA NA NA NA NA NA NA ...\n",
      " $ gdp_for_year....  : chr  \"2,156,624,900\" \"2,156,624,900\" \"2,156,624,900\" \"2,156,624,900\" ...\n",
      " $ gdp_per_capita....: int  796 796 796 796 796 796 796 796 796 796 ...\n",
      " $ generation        : chr  \"Generation X\" \"Silent\" \"Generation X\" \"G.I. Generation\" ...\n"
     ]
    }
   ],
   "source": [
    "str(suicides) # structure of the data frame"
   ]
  },
  {
   "cell_type": "markdown",
   "metadata": {},
   "source": [
    "This is to change the data types of factors into char."
   ]
  },
  {
   "cell_type": "code",
   "execution_count": 6,
   "metadata": {},
   "outputs": [],
   "source": [
    "suicides$ï..country=as.character(suicides$ï..country)\n",
    "suicides$sex=as.character(suicides$sex)\n",
    "suicides$age=as.character(suicides$age)\n",
    "suicides$country.year=as.character(suicides$country.year)\n",
    "suicides$gdp_for_year....=as.character(suicides$gdp_for_year....)\n",
    "suicides$generation=as.character(suicides$generation)"
   ]
  },
  {
   "cell_type": "code",
   "execution_count": 7,
   "metadata": {
    "scrolled": true
   },
   "outputs": [
    {
     "name": "stdout",
     "output_type": "stream",
     "text": [
      "'data.frame':\t27820 obs. of  12 variables:\n",
      " $ ï..country        : chr  \"Albania\" \"Albania\" \"Albania\" \"Albania\" ...\n",
      " $ year              : int  1987 1987 1987 1987 1987 1987 1987 1987 1987 1987 ...\n",
      " $ sex               : chr  \"male\" \"male\" \"female\" \"male\" ...\n",
      " $ age               : chr  \"15-24 years\" \"35-54 years\" \"15-24 years\" \"75+ years\" ...\n",
      " $ suicides_no       : int  21 16 14 1 9 1 6 4 1 0 ...\n",
      " $ population        : int  312900 308000 289700 21800 274300 35600 278800 257200 137500 311000 ...\n",
      " $ suicides.100k.pop : num  6.71 5.19 4.83 4.59 3.28 2.81 2.15 1.56 0.73 0 ...\n",
      " $ country.year      : chr  \"Albania1987\" \"Albania1987\" \"Albania1987\" \"Albania1987\" ...\n",
      " $ HDI.for.year      : num  NA NA NA NA NA NA NA NA NA NA ...\n",
      " $ gdp_for_year....  : chr  \"2,156,624,900\" \"2,156,624,900\" \"2,156,624,900\" \"2,156,624,900\" ...\n",
      " $ gdp_per_capita....: int  796 796 796 796 796 796 796 796 796 796 ...\n",
      " $ generation        : chr  \"Generation X\" \"Silent\" \"Generation X\" \"G.I. Generation\" ...\n"
     ]
    }
   ],
   "source": [
    "str(suicides)"
   ]
  },
  {
   "cell_type": "code",
   "execution_count": 8,
   "metadata": {},
   "outputs": [],
   "source": [
    "library(dplyr, warn.conflicts = FALSE)\n",
    "options(dplyr.summarise.inform = FALSE)\n",
    "library(magrittr) # needs to be run every time you start R and want to use %>%"
   ]
  },
  {
   "cell_type": "code",
   "execution_count": 9,
   "metadata": {
    "scrolled": true
   },
   "outputs": [
    {
     "data": {
      "text/html": [
       "<table class=\"dataframe\">\n",
       "<caption>A data.frame: 6 × 12</caption>\n",
       "<thead>\n",
       "\t<tr><th></th><th scope=col>country</th><th scope=col>year</th><th scope=col>sex</th><th scope=col>age</th><th scope=col>suicides_no</th><th scope=col>population</th><th scope=col>suicide_per_100k</th><th scope=col>country.year</th><th scope=col>HDI_for_year</th><th scope=col>gdp_for_year</th><th scope=col>gdp_per_cap</th><th scope=col>generation</th></tr>\n",
       "\t<tr><th></th><th scope=col>&lt;chr&gt;</th><th scope=col>&lt;int&gt;</th><th scope=col>&lt;chr&gt;</th><th scope=col>&lt;chr&gt;</th><th scope=col>&lt;int&gt;</th><th scope=col>&lt;int&gt;</th><th scope=col>&lt;dbl&gt;</th><th scope=col>&lt;chr&gt;</th><th scope=col>&lt;dbl&gt;</th><th scope=col>&lt;chr&gt;</th><th scope=col>&lt;int&gt;</th><th scope=col>&lt;chr&gt;</th></tr>\n",
       "</thead>\n",
       "<tbody>\n",
       "\t<tr><th scope=row>1</th><td>Albania</td><td>1987</td><td>male  </td><td>15-24 years</td><td>21</td><td>312900</td><td>6.71</td><td>Albania1987</td><td>NA</td><td>2,156,624,900</td><td>796</td><td>Generation X   </td></tr>\n",
       "\t<tr><th scope=row>2</th><td>Albania</td><td>1987</td><td>male  </td><td>35-54 years</td><td>16</td><td>308000</td><td>5.19</td><td>Albania1987</td><td>NA</td><td>2,156,624,900</td><td>796</td><td>Silent         </td></tr>\n",
       "\t<tr><th scope=row>3</th><td>Albania</td><td>1987</td><td>female</td><td>15-24 years</td><td>14</td><td>289700</td><td>4.83</td><td>Albania1987</td><td>NA</td><td>2,156,624,900</td><td>796</td><td>Generation X   </td></tr>\n",
       "\t<tr><th scope=row>4</th><td>Albania</td><td>1987</td><td>male  </td><td>75+ years  </td><td> 1</td><td> 21800</td><td>4.59</td><td>Albania1987</td><td>NA</td><td>2,156,624,900</td><td>796</td><td>G.I. Generation</td></tr>\n",
       "\t<tr><th scope=row>5</th><td>Albania</td><td>1987</td><td>male  </td><td>25-34 years</td><td> 9</td><td>274300</td><td>3.28</td><td>Albania1987</td><td>NA</td><td>2,156,624,900</td><td>796</td><td>Boomers        </td></tr>\n",
       "\t<tr><th scope=row>6</th><td>Albania</td><td>1987</td><td>female</td><td>75+ years  </td><td> 1</td><td> 35600</td><td>2.81</td><td>Albania1987</td><td>NA</td><td>2,156,624,900</td><td>796</td><td>G.I. Generation</td></tr>\n",
       "</tbody>\n",
       "</table>\n"
      ],
      "text/latex": [
       "A data.frame: 6 × 12\n",
       "\\begin{tabular}{r|llllllllllll}\n",
       "  & country & year & sex & age & suicides\\_no & population & suicide\\_per\\_100k & country.year & HDI\\_for\\_year & gdp\\_for\\_year & gdp\\_per\\_cap & generation\\\\\n",
       "  & <chr> & <int> & <chr> & <chr> & <int> & <int> & <dbl> & <chr> & <dbl> & <chr> & <int> & <chr>\\\\\n",
       "\\hline\n",
       "\t1 & Albania & 1987 & male   & 15-24 years & 21 & 312900 & 6.71 & Albania1987 & NA & 2,156,624,900 & 796 & Generation X   \\\\\n",
       "\t2 & Albania & 1987 & male   & 35-54 years & 16 & 308000 & 5.19 & Albania1987 & NA & 2,156,624,900 & 796 & Silent         \\\\\n",
       "\t3 & Albania & 1987 & female & 15-24 years & 14 & 289700 & 4.83 & Albania1987 & NA & 2,156,624,900 & 796 & Generation X   \\\\\n",
       "\t4 & Albania & 1987 & male   & 75+ years   &  1 &  21800 & 4.59 & Albania1987 & NA & 2,156,624,900 & 796 & G.I. Generation\\\\\n",
       "\t5 & Albania & 1987 & male   & 25-34 years &  9 & 274300 & 3.28 & Albania1987 & NA & 2,156,624,900 & 796 & Boomers        \\\\\n",
       "\t6 & Albania & 1987 & female & 75+ years   &  1 &  35600 & 2.81 & Albania1987 & NA & 2,156,624,900 & 796 & G.I. Generation\\\\\n",
       "\\end{tabular}\n"
      ],
      "text/markdown": [
       "\n",
       "A data.frame: 6 × 12\n",
       "\n",
       "| <!--/--> | country &lt;chr&gt; | year &lt;int&gt; | sex &lt;chr&gt; | age &lt;chr&gt; | suicides_no &lt;int&gt; | population &lt;int&gt; | suicide_per_100k &lt;dbl&gt; | country.year &lt;chr&gt; | HDI_for_year &lt;dbl&gt; | gdp_for_year &lt;chr&gt; | gdp_per_cap &lt;int&gt; | generation &lt;chr&gt; |\n",
       "|---|---|---|---|---|---|---|---|---|---|---|---|---|\n",
       "| 1 | Albania | 1987 | male   | 15-24 years | 21 | 312900 | 6.71 | Albania1987 | NA | 2,156,624,900 | 796 | Generation X    |\n",
       "| 2 | Albania | 1987 | male   | 35-54 years | 16 | 308000 | 5.19 | Albania1987 | NA | 2,156,624,900 | 796 | Silent          |\n",
       "| 3 | Albania | 1987 | female | 15-24 years | 14 | 289700 | 4.83 | Albania1987 | NA | 2,156,624,900 | 796 | Generation X    |\n",
       "| 4 | Albania | 1987 | male   | 75+ years   |  1 |  21800 | 4.59 | Albania1987 | NA | 2,156,624,900 | 796 | G.I. Generation |\n",
       "| 5 | Albania | 1987 | male   | 25-34 years |  9 | 274300 | 3.28 | Albania1987 | NA | 2,156,624,900 | 796 | Boomers         |\n",
       "| 6 | Albania | 1987 | female | 75+ years   |  1 |  35600 | 2.81 | Albania1987 | NA | 2,156,624,900 | 796 | G.I. Generation |\n",
       "\n"
      ],
      "text/plain": [
       "  country year sex    age         suicides_no population suicide_per_100k\n",
       "1 Albania 1987 male   15-24 years 21          312900     6.71            \n",
       "2 Albania 1987 male   35-54 years 16          308000     5.19            \n",
       "3 Albania 1987 female 15-24 years 14          289700     4.83            \n",
       "4 Albania 1987 male   75+ years    1           21800     4.59            \n",
       "5 Albania 1987 male   25-34 years  9          274300     3.28            \n",
       "6 Albania 1987 female 75+ years    1           35600     2.81            \n",
       "  country.year HDI_for_year gdp_for_year  gdp_per_cap generation     \n",
       "1 Albania1987  NA           2,156,624,900 796         Generation X   \n",
       "2 Albania1987  NA           2,156,624,900 796         Silent         \n",
       "3 Albania1987  NA           2,156,624,900 796         Generation X   \n",
       "4 Albania1987  NA           2,156,624,900 796         G.I. Generation\n",
       "5 Albania1987  NA           2,156,624,900 796         Boomers        \n",
       "6 Albania1987  NA           2,156,624,900 796         G.I. Generation"
      ]
     },
     "metadata": {},
     "output_type": "display_data"
    }
   ],
   "source": [
    "suicides <- suicides %>% rename(country = ï..country, gdp_for_year = gdp_for_year...., \n",
    "                                gdp_per_cap = gdp_per_capita...., HDI_for_year = HDI.for.year,\n",
    "                               suicide_per_100k = suicides.100k.pop)\n",
    "head(suicides)"
   ]
  },
  {
   "cell_type": "code",
   "execution_count": 10,
   "metadata": {
    "scrolled": true
   },
   "outputs": [
    {
     "data": {
      "text/html": [
       "<table class=\"dataframe\">\n",
       "<caption>A data.frame: 6 × 13</caption>\n",
       "<thead>\n",
       "\t<tr><th></th><th scope=col>country</th><th scope=col>year</th><th scope=col>sex</th><th scope=col>age</th><th scope=col>suicides_no</th><th scope=col>population</th><th scope=col>suicide_per_100k</th><th scope=col>country.year</th><th scope=col>HDI_for_year</th><th scope=col>gdp_for_year</th><th scope=col>gdp_per_cap</th><th scope=col>generation</th><th scope=col>continent</th></tr>\n",
       "\t<tr><th></th><th scope=col>&lt;chr&gt;</th><th scope=col>&lt;int&gt;</th><th scope=col>&lt;chr&gt;</th><th scope=col>&lt;chr&gt;</th><th scope=col>&lt;int&gt;</th><th scope=col>&lt;int&gt;</th><th scope=col>&lt;dbl&gt;</th><th scope=col>&lt;chr&gt;</th><th scope=col>&lt;dbl&gt;</th><th scope=col>&lt;chr&gt;</th><th scope=col>&lt;int&gt;</th><th scope=col>&lt;chr&gt;</th><th scope=col>&lt;chr&gt;</th></tr>\n",
       "</thead>\n",
       "<tbody>\n",
       "\t<tr><th scope=row>1</th><td>Albania</td><td>1987</td><td>male  </td><td>15-24 years</td><td>21</td><td>312900</td><td>6.71</td><td>Albania1987</td><td>NA</td><td>2,156,624,900</td><td>796</td><td>Generation X   </td><td>Europe</td></tr>\n",
       "\t<tr><th scope=row>2</th><td>Albania</td><td>1987</td><td>male  </td><td>35-54 years</td><td>16</td><td>308000</td><td>5.19</td><td>Albania1987</td><td>NA</td><td>2,156,624,900</td><td>796</td><td>Silent         </td><td>Europe</td></tr>\n",
       "\t<tr><th scope=row>3</th><td>Albania</td><td>1987</td><td>female</td><td>15-24 years</td><td>14</td><td>289700</td><td>4.83</td><td>Albania1987</td><td>NA</td><td>2,156,624,900</td><td>796</td><td>Generation X   </td><td>Europe</td></tr>\n",
       "\t<tr><th scope=row>4</th><td>Albania</td><td>1987</td><td>male  </td><td>75+ years  </td><td> 1</td><td> 21800</td><td>4.59</td><td>Albania1987</td><td>NA</td><td>2,156,624,900</td><td>796</td><td>G.I. Generation</td><td>Europe</td></tr>\n",
       "\t<tr><th scope=row>5</th><td>Albania</td><td>1987</td><td>male  </td><td>25-34 years</td><td> 9</td><td>274300</td><td>3.28</td><td>Albania1987</td><td>NA</td><td>2,156,624,900</td><td>796</td><td>Boomers        </td><td>Europe</td></tr>\n",
       "\t<tr><th scope=row>6</th><td>Albania</td><td>1987</td><td>female</td><td>75+ years  </td><td> 1</td><td> 35600</td><td>2.81</td><td>Albania1987</td><td>NA</td><td>2,156,624,900</td><td>796</td><td>G.I. Generation</td><td>Europe</td></tr>\n",
       "</tbody>\n",
       "</table>\n"
      ],
      "text/latex": [
       "A data.frame: 6 × 13\n",
       "\\begin{tabular}{r|lllllllllllll}\n",
       "  & country & year & sex & age & suicides\\_no & population & suicide\\_per\\_100k & country.year & HDI\\_for\\_year & gdp\\_for\\_year & gdp\\_per\\_cap & generation & continent\\\\\n",
       "  & <chr> & <int> & <chr> & <chr> & <int> & <int> & <dbl> & <chr> & <dbl> & <chr> & <int> & <chr> & <chr>\\\\\n",
       "\\hline\n",
       "\t1 & Albania & 1987 & male   & 15-24 years & 21 & 312900 & 6.71 & Albania1987 & NA & 2,156,624,900 & 796 & Generation X    & Europe\\\\\n",
       "\t2 & Albania & 1987 & male   & 35-54 years & 16 & 308000 & 5.19 & Albania1987 & NA & 2,156,624,900 & 796 & Silent          & Europe\\\\\n",
       "\t3 & Albania & 1987 & female & 15-24 years & 14 & 289700 & 4.83 & Albania1987 & NA & 2,156,624,900 & 796 & Generation X    & Europe\\\\\n",
       "\t4 & Albania & 1987 & male   & 75+ years   &  1 &  21800 & 4.59 & Albania1987 & NA & 2,156,624,900 & 796 & G.I. Generation & Europe\\\\\n",
       "\t5 & Albania & 1987 & male   & 25-34 years &  9 & 274300 & 3.28 & Albania1987 & NA & 2,156,624,900 & 796 & Boomers         & Europe\\\\\n",
       "\t6 & Albania & 1987 & female & 75+ years   &  1 &  35600 & 2.81 & Albania1987 & NA & 2,156,624,900 & 796 & G.I. Generation & Europe\\\\\n",
       "\\end{tabular}\n"
      ],
      "text/markdown": [
       "\n",
       "A data.frame: 6 × 13\n",
       "\n",
       "| <!--/--> | country &lt;chr&gt; | year &lt;int&gt; | sex &lt;chr&gt; | age &lt;chr&gt; | suicides_no &lt;int&gt; | population &lt;int&gt; | suicide_per_100k &lt;dbl&gt; | country.year &lt;chr&gt; | HDI_for_year &lt;dbl&gt; | gdp_for_year &lt;chr&gt; | gdp_per_cap &lt;int&gt; | generation &lt;chr&gt; | continent &lt;chr&gt; |\n",
       "|---|---|---|---|---|---|---|---|---|---|---|---|---|---|\n",
       "| 1 | Albania | 1987 | male   | 15-24 years | 21 | 312900 | 6.71 | Albania1987 | NA | 2,156,624,900 | 796 | Generation X    | Europe |\n",
       "| 2 | Albania | 1987 | male   | 35-54 years | 16 | 308000 | 5.19 | Albania1987 | NA | 2,156,624,900 | 796 | Silent          | Europe |\n",
       "| 3 | Albania | 1987 | female | 15-24 years | 14 | 289700 | 4.83 | Albania1987 | NA | 2,156,624,900 | 796 | Generation X    | Europe |\n",
       "| 4 | Albania | 1987 | male   | 75+ years   |  1 |  21800 | 4.59 | Albania1987 | NA | 2,156,624,900 | 796 | G.I. Generation | Europe |\n",
       "| 5 | Albania | 1987 | male   | 25-34 years |  9 | 274300 | 3.28 | Albania1987 | NA | 2,156,624,900 | 796 | Boomers         | Europe |\n",
       "| 6 | Albania | 1987 | female | 75+ years   |  1 |  35600 | 2.81 | Albania1987 | NA | 2,156,624,900 | 796 | G.I. Generation | Europe |\n",
       "\n"
      ],
      "text/plain": [
       "  country year sex    age         suicides_no population suicide_per_100k\n",
       "1 Albania 1987 male   15-24 years 21          312900     6.71            \n",
       "2 Albania 1987 male   35-54 years 16          308000     5.19            \n",
       "3 Albania 1987 female 15-24 years 14          289700     4.83            \n",
       "4 Albania 1987 male   75+ years    1           21800     4.59            \n",
       "5 Albania 1987 male   25-34 years  9          274300     3.28            \n",
       "6 Albania 1987 female 75+ years    1           35600     2.81            \n",
       "  country.year HDI_for_year gdp_for_year  gdp_per_cap generation      continent\n",
       "1 Albania1987  NA           2,156,624,900 796         Generation X    Europe   \n",
       "2 Albania1987  NA           2,156,624,900 796         Silent          Europe   \n",
       "3 Albania1987  NA           2,156,624,900 796         Generation X    Europe   \n",
       "4 Albania1987  NA           2,156,624,900 796         G.I. Generation Europe   \n",
       "5 Albania1987  NA           2,156,624,900 796         Boomers         Europe   \n",
       "6 Albania1987  NA           2,156,624,900 796         G.I. Generation Europe   "
      ]
     },
     "metadata": {},
     "output_type": "display_data"
    }
   ],
   "source": [
    "library(countrycode)\n",
    "#add continent\n",
    "suicides$continent <- countrycode(sourcevar = suicides$country,\n",
    "                            origin = \"country.name\",\n",
    "                            destination = \"continent\")\n",
    "head(suicides)"
   ]
  },
  {
   "cell_type": "code",
   "execution_count": 11,
   "metadata": {
    "scrolled": false
   },
   "outputs": [
    {
     "data": {
      "text/html": [
       "<style>\n",
       ".dl-inline {width: auto; margin:0; padding: 0}\n",
       ".dl-inline>dt, .dl-inline>dd {float: none; width: auto; display: inline-block}\n",
       ".dl-inline>dt::after {content: \":\\0020\"; padding-right: .5ex}\n",
       ".dl-inline>dt:not(:first-of-type) {padding-left: .5ex}\n",
       "</style><dl class=dl-inline><dt>country</dt><dd>0</dd><dt>year</dt><dd>0</dd><dt>sex</dt><dd>0</dd><dt>age</dt><dd>0</dd><dt>suicides_no</dt><dd>0</dd><dt>population</dt><dd>0</dd><dt>suicide_per_100k</dt><dd>0</dd><dt>country.year</dt><dd>0</dd><dt>HDI_for_year</dt><dd>19456</dd><dt>gdp_for_year</dt><dd>0</dd><dt>gdp_per_cap</dt><dd>0</dd><dt>generation</dt><dd>0</dd><dt>continent</dt><dd>0</dd></dl>\n"
      ],
      "text/latex": [
       "\\begin{description*}\n",
       "\\item[country] 0\n",
       "\\item[year] 0\n",
       "\\item[sex] 0\n",
       "\\item[age] 0\n",
       "\\item[suicides\\textbackslash{}\\_no] 0\n",
       "\\item[population] 0\n",
       "\\item[suicide\\textbackslash{}\\_per\\textbackslash{}\\_100k] 0\n",
       "\\item[country.year] 0\n",
       "\\item[HDI\\textbackslash{}\\_for\\textbackslash{}\\_year] 19456\n",
       "\\item[gdp\\textbackslash{}\\_for\\textbackslash{}\\_year] 0\n",
       "\\item[gdp\\textbackslash{}\\_per\\textbackslash{}\\_cap] 0\n",
       "\\item[generation] 0\n",
       "\\item[continent] 0\n",
       "\\end{description*}\n"
      ],
      "text/markdown": [
       "country\n",
       ":   0year\n",
       ":   0sex\n",
       ":   0age\n",
       ":   0suicides_no\n",
       ":   0population\n",
       ":   0suicide_per_100k\n",
       ":   0country.year\n",
       ":   0HDI_for_year\n",
       ":   19456gdp_for_year\n",
       ":   0gdp_per_cap\n",
       ":   0generation\n",
       ":   0continent\n",
       ":   0\n",
       "\n"
      ],
      "text/plain": [
       "         country             year              sex              age \n",
       "               0                0                0                0 \n",
       "     suicides_no       population suicide_per_100k     country.year \n",
       "               0                0                0                0 \n",
       "    HDI_for_year     gdp_for_year      gdp_per_cap       generation \n",
       "           19456                0                0                0 \n",
       "       continent \n",
       "               0 "
      ]
     },
     "metadata": {},
     "output_type": "display_data"
    }
   ],
   "source": [
    "library(knitr)\n",
    "sapply(suicides, is.na) %>% colSums"
   ]
  },
  {
   "cell_type": "markdown",
   "metadata": {},
   "source": [
    "Next is to discard hdi for year and country.year, as they are not needed and or have many missing values"
   ]
  },
  {
   "cell_type": "code",
   "execution_count": 12,
   "metadata": {},
   "outputs": [
    {
     "data": {
      "text/plain": [
       "   Mode   FALSE    TRUE \n",
       "logical   27660     160 "
      ]
     },
     "metadata": {},
     "output_type": "display_data"
    }
   ],
   "source": [
    "# We have noticed that data for 2016 is incomplete and for that reason, we are removing 2016 year\n",
    "summary(suicides$year==2016)\n",
    "suicides <- subset(suicides, year!=\"2016\")\n",
    "suicides_data <- suicides %>% select(-(HDI_for_year), -(country.year))"
   ]
  },
  {
   "cell_type": "code",
   "execution_count": 13,
   "metadata": {},
   "outputs": [
    {
     "name": "stdout",
     "output_type": "stream",
     "text": [
      "'data.frame':\t27660 obs. of  11 variables:\n",
      " $ country         : chr  \"Albania\" \"Albania\" \"Albania\" \"Albania\" ...\n",
      " $ year            : int  1987 1987 1987 1987 1987 1987 1987 1987 1987 1987 ...\n",
      " $ sex             : chr  \"male\" \"male\" \"female\" \"male\" ...\n",
      " $ age             : chr  \"15-24 years\" \"35-54 years\" \"15-24 years\" \"75+ years\" ...\n",
      " $ suicides_no     : int  21 16 14 1 9 1 6 4 1 0 ...\n",
      " $ population      : int  312900 308000 289700 21800 274300 35600 278800 257200 137500 311000 ...\n",
      " $ suicide_per_100k: num  6.71 5.19 4.83 4.59 3.28 2.81 2.15 1.56 0.73 0 ...\n",
      " $ gdp_for_year    : chr  \"2,156,624,900\" \"2,156,624,900\" \"2,156,624,900\" \"2,156,624,900\" ...\n",
      " $ gdp_per_cap     : int  796 796 796 796 796 796 796 796 796 796 ...\n",
      " $ generation      : chr  \"Generation X\" \"Silent\" \"Generation X\" \"G.I. Generation\" ...\n",
      " $ continent       : chr  \"Europe\" \"Europe\" \"Europe\" \"Europe\" ...\n"
     ]
    }
   ],
   "source": [
    "str(suicides_data)"
   ]
  },
  {
   "cell_type": "code",
   "execution_count": 14,
   "metadata": {},
   "outputs": [
    {
     "name": "stdout",
     "output_type": "stream",
     "text": [
      "Rows: 27,660\n",
      "Columns: 11\n",
      "$ country          \u001b[3m\u001b[90m<chr>\u001b[39m\u001b[23m \"Albania\", \"Albania\", \"Albania\", \"Albania\", \"Albania\"~\n",
      "$ year             \u001b[3m\u001b[90m<int>\u001b[39m\u001b[23m 1987, 1987, 1987, 1987, 1987, 1987, 1987, 1987, 1987,~\n",
      "$ sex              \u001b[3m\u001b[90m<chr>\u001b[39m\u001b[23m \"male\", \"male\", \"female\", \"male\", \"male\", \"female\", \"~\n",
      "$ age              \u001b[3m\u001b[90m<chr>\u001b[39m\u001b[23m \"15-24 years\", \"35-54 years\", \"15-24 years\", \"75+ yea~\n",
      "$ suicides_no      \u001b[3m\u001b[90m<int>\u001b[39m\u001b[23m 21, 16, 14, 1, 9, 1, 6, 4, 1, 0, 0, 0, 2, 17, 1, 14, ~\n",
      "$ population       \u001b[3m\u001b[90m<int>\u001b[39m\u001b[23m 312900, 308000, 289700, 21800, 274300, 35600, 278800,~\n",
      "$ suicide_per_100k \u001b[3m\u001b[90m<dbl>\u001b[39m\u001b[23m 6.71, 5.19, 4.83, 4.59, 3.28, 2.81, 2.15, 1.56, 0.73,~\n",
      "$ gdp_for_year     \u001b[3m\u001b[90m<chr>\u001b[39m\u001b[23m \"2,156,624,900\", \"2,156,624,900\", \"2,156,624,900\", \"2~\n",
      "$ gdp_per_cap      \u001b[3m\u001b[90m<int>\u001b[39m\u001b[23m 796, 796, 796, 796, 796, 796, 796, 796, 796, 796, 796~\n",
      "$ generation       \u001b[3m\u001b[90m<chr>\u001b[39m\u001b[23m \"Generation X\", \"Silent\", \"Generation X\", \"G.I. Gener~\n",
      "$ continent        \u001b[3m\u001b[90m<chr>\u001b[39m\u001b[23m \"Europe\", \"Europe\", \"Europe\", \"Europe\", \"Europe\", \"Eu~\n"
     ]
    }
   ],
   "source": [
    "glimpse(suicides_data) # a modified version to view the structure"
   ]
  },
  {
   "cell_type": "code",
   "execution_count": 15,
   "metadata": {},
   "outputs": [
    {
     "data": {
      "text/html": [
       "0"
      ],
      "text/latex": [
       "0"
      ],
      "text/markdown": [
       "0"
      ],
      "text/plain": [
       "[1] 0"
      ]
     },
     "metadata": {},
     "output_type": "display_data"
    }
   ],
   "source": [
    "sum(is.na(suicides_data))"
   ]
  },
  {
   "cell_type": "markdown",
   "metadata": {},
   "source": [
    "Therefore, no null values"
   ]
  },
  {
   "cell_type": "code",
   "execution_count": 16,
   "metadata": {},
   "outputs": [
    {
     "data": {
      "text/html": [
       "<style>\n",
       ".list-inline {list-style: none; margin:0; padding: 0}\n",
       ".list-inline>li {display: inline-block}\n",
       ".list-inline>li:not(:last-child)::after {content: \"\\00b7\"; padding: 0 .5ex}\n",
       "</style>\n",
       "<ol class=list-inline><li>27660</li><li>11</li></ol>\n"
      ],
      "text/latex": [
       "\\begin{enumerate*}\n",
       "\\item 27660\n",
       "\\item 11\n",
       "\\end{enumerate*}\n"
      ],
      "text/markdown": [
       "1. 27660\n",
       "2. 11\n",
       "\n",
       "\n"
      ],
      "text/plain": [
       "[1] 27660    11"
      ]
     },
     "metadata": {},
     "output_type": "display_data"
    }
   ],
   "source": [
    "dim(suicides_data)"
   ]
  },
  {
   "cell_type": "code",
   "execution_count": 17,
   "metadata": {},
   "outputs": [
    {
     "data": {
      "text/plain": [
       "   country               year          sex                age           \n",
       " Length:27660       Min.   :1985   Length:27660       Length:27660      \n",
       " Class :character   1st Qu.:1994   Class :character   Class :character  \n",
       " Mode  :character   Median :2002   Mode  :character   Mode  :character  \n",
       "                    Mean   :2001                                        \n",
       "                    3rd Qu.:2008                                        \n",
       "                    Max.   :2015                                        \n",
       "  suicides_no        population       suicide_per_100k gdp_for_year      \n",
       " Min.   :    0.0   Min.   :     278   Min.   :  0.00   Length:27660      \n",
       " 1st Qu.:    3.0   1st Qu.:   97535   1st Qu.:  0.91   Class :character  \n",
       " Median :   25.0   Median :  430725   Median :  5.98   Mode  :character  \n",
       " Mean   :  243.4   Mean   : 1850689   Mean   : 12.81                     \n",
       " 3rd Qu.:  132.0   3rd Qu.: 1491041   3rd Qu.: 16.60                     \n",
       " Max.   :22338.0   Max.   :43805214   Max.   :224.97                     \n",
       "  gdp_per_cap      generation         continent        \n",
       " Min.   :   251   Length:27660       Length:27660      \n",
       " 1st Qu.:  3436   Class :character   Class :character  \n",
       " Median :  9283   Mode  :character   Mode  :character  \n",
       " Mean   : 16816                                        \n",
       " 3rd Qu.: 24796                                        \n",
       " Max.   :126352                                        "
      ]
     },
     "metadata": {},
     "output_type": "display_data"
    }
   ],
   "source": [
    "summary(suicides_data)"
   ]
  },
  {
   "cell_type": "markdown",
   "metadata": {},
   "source": [
    "To view after cleaning:"
   ]
  },
  {
   "cell_type": "code",
   "execution_count": 18,
   "metadata": {},
   "outputs": [
    {
     "data": {
      "text/html": [
       "<table class=\"dataframe\">\n",
       "<caption>A data.frame: 6 × 11</caption>\n",
       "<thead>\n",
       "\t<tr><th></th><th scope=col>country</th><th scope=col>year</th><th scope=col>sex</th><th scope=col>age</th><th scope=col>suicides_no</th><th scope=col>population</th><th scope=col>suicide_per_100k</th><th scope=col>gdp_for_year</th><th scope=col>gdp_per_cap</th><th scope=col>generation</th><th scope=col>continent</th></tr>\n",
       "\t<tr><th></th><th scope=col>&lt;chr&gt;</th><th scope=col>&lt;int&gt;</th><th scope=col>&lt;chr&gt;</th><th scope=col>&lt;chr&gt;</th><th scope=col>&lt;int&gt;</th><th scope=col>&lt;int&gt;</th><th scope=col>&lt;dbl&gt;</th><th scope=col>&lt;chr&gt;</th><th scope=col>&lt;int&gt;</th><th scope=col>&lt;chr&gt;</th><th scope=col>&lt;chr&gt;</th></tr>\n",
       "</thead>\n",
       "<tbody>\n",
       "\t<tr><th scope=row>1</th><td>Albania</td><td>1987</td><td>male  </td><td>15-24 years</td><td>21</td><td>312900</td><td>6.71</td><td>2,156,624,900</td><td>796</td><td>Generation X   </td><td>Europe</td></tr>\n",
       "\t<tr><th scope=row>2</th><td>Albania</td><td>1987</td><td>male  </td><td>35-54 years</td><td>16</td><td>308000</td><td>5.19</td><td>2,156,624,900</td><td>796</td><td>Silent         </td><td>Europe</td></tr>\n",
       "\t<tr><th scope=row>3</th><td>Albania</td><td>1987</td><td>female</td><td>15-24 years</td><td>14</td><td>289700</td><td>4.83</td><td>2,156,624,900</td><td>796</td><td>Generation X   </td><td>Europe</td></tr>\n",
       "\t<tr><th scope=row>4</th><td>Albania</td><td>1987</td><td>male  </td><td>75+ years  </td><td> 1</td><td> 21800</td><td>4.59</td><td>2,156,624,900</td><td>796</td><td>G.I. Generation</td><td>Europe</td></tr>\n",
       "\t<tr><th scope=row>5</th><td>Albania</td><td>1987</td><td>male  </td><td>25-34 years</td><td> 9</td><td>274300</td><td>3.28</td><td>2,156,624,900</td><td>796</td><td>Boomers        </td><td>Europe</td></tr>\n",
       "\t<tr><th scope=row>6</th><td>Albania</td><td>1987</td><td>female</td><td>75+ years  </td><td> 1</td><td> 35600</td><td>2.81</td><td>2,156,624,900</td><td>796</td><td>G.I. Generation</td><td>Europe</td></tr>\n",
       "</tbody>\n",
       "</table>\n"
      ],
      "text/latex": [
       "A data.frame: 6 × 11\n",
       "\\begin{tabular}{r|lllllllllll}\n",
       "  & country & year & sex & age & suicides\\_no & population & suicide\\_per\\_100k & gdp\\_for\\_year & gdp\\_per\\_cap & generation & continent\\\\\n",
       "  & <chr> & <int> & <chr> & <chr> & <int> & <int> & <dbl> & <chr> & <int> & <chr> & <chr>\\\\\n",
       "\\hline\n",
       "\t1 & Albania & 1987 & male   & 15-24 years & 21 & 312900 & 6.71 & 2,156,624,900 & 796 & Generation X    & Europe\\\\\n",
       "\t2 & Albania & 1987 & male   & 35-54 years & 16 & 308000 & 5.19 & 2,156,624,900 & 796 & Silent          & Europe\\\\\n",
       "\t3 & Albania & 1987 & female & 15-24 years & 14 & 289700 & 4.83 & 2,156,624,900 & 796 & Generation X    & Europe\\\\\n",
       "\t4 & Albania & 1987 & male   & 75+ years   &  1 &  21800 & 4.59 & 2,156,624,900 & 796 & G.I. Generation & Europe\\\\\n",
       "\t5 & Albania & 1987 & male   & 25-34 years &  9 & 274300 & 3.28 & 2,156,624,900 & 796 & Boomers         & Europe\\\\\n",
       "\t6 & Albania & 1987 & female & 75+ years   &  1 &  35600 & 2.81 & 2,156,624,900 & 796 & G.I. Generation & Europe\\\\\n",
       "\\end{tabular}\n"
      ],
      "text/markdown": [
       "\n",
       "A data.frame: 6 × 11\n",
       "\n",
       "| <!--/--> | country &lt;chr&gt; | year &lt;int&gt; | sex &lt;chr&gt; | age &lt;chr&gt; | suicides_no &lt;int&gt; | population &lt;int&gt; | suicide_per_100k &lt;dbl&gt; | gdp_for_year &lt;chr&gt; | gdp_per_cap &lt;int&gt; | generation &lt;chr&gt; | continent &lt;chr&gt; |\n",
       "|---|---|---|---|---|---|---|---|---|---|---|---|\n",
       "| 1 | Albania | 1987 | male   | 15-24 years | 21 | 312900 | 6.71 | 2,156,624,900 | 796 | Generation X    | Europe |\n",
       "| 2 | Albania | 1987 | male   | 35-54 years | 16 | 308000 | 5.19 | 2,156,624,900 | 796 | Silent          | Europe |\n",
       "| 3 | Albania | 1987 | female | 15-24 years | 14 | 289700 | 4.83 | 2,156,624,900 | 796 | Generation X    | Europe |\n",
       "| 4 | Albania | 1987 | male   | 75+ years   |  1 |  21800 | 4.59 | 2,156,624,900 | 796 | G.I. Generation | Europe |\n",
       "| 5 | Albania | 1987 | male   | 25-34 years |  9 | 274300 | 3.28 | 2,156,624,900 | 796 | Boomers         | Europe |\n",
       "| 6 | Albania | 1987 | female | 75+ years   |  1 |  35600 | 2.81 | 2,156,624,900 | 796 | G.I. Generation | Europe |\n",
       "\n"
      ],
      "text/plain": [
       "  country year sex    age         suicides_no population suicide_per_100k\n",
       "1 Albania 1987 male   15-24 years 21          312900     6.71            \n",
       "2 Albania 1987 male   35-54 years 16          308000     5.19            \n",
       "3 Albania 1987 female 15-24 years 14          289700     4.83            \n",
       "4 Albania 1987 male   75+ years    1           21800     4.59            \n",
       "5 Albania 1987 male   25-34 years  9          274300     3.28            \n",
       "6 Albania 1987 female 75+ years    1           35600     2.81            \n",
       "  gdp_for_year  gdp_per_cap generation      continent\n",
       "1 2,156,624,900 796         Generation X    Europe   \n",
       "2 2,156,624,900 796         Silent          Europe   \n",
       "3 2,156,624,900 796         Generation X    Europe   \n",
       "4 2,156,624,900 796         G.I. Generation Europe   \n",
       "5 2,156,624,900 796         Boomers         Europe   \n",
       "6 2,156,624,900 796         G.I. Generation Europe   "
      ]
     },
     "metadata": {},
     "output_type": "display_data"
    }
   ],
   "source": [
    "head(suicides_data)"
   ]
  },
  {
   "cell_type": "code",
   "execution_count": 19,
   "metadata": {
    "scrolled": true
   },
   "outputs": [
    {
     "data": {
      "text/html": [
       "<table class=\"dataframe\">\n",
       "<caption>A data.frame: 6 × 11</caption>\n",
       "<thead>\n",
       "\t<tr><th></th><th scope=col>country</th><th scope=col>year</th><th scope=col>sex</th><th scope=col>age</th><th scope=col>suicides_no</th><th scope=col>population</th><th scope=col>suicide_per_100k</th><th scope=col>gdp_for_year</th><th scope=col>gdp_per_cap</th><th scope=col>generation</th><th scope=col>continent</th></tr>\n",
       "\t<tr><th></th><th scope=col>&lt;chr&gt;</th><th scope=col>&lt;int&gt;</th><th scope=col>&lt;chr&gt;</th><th scope=col>&lt;chr&gt;</th><th scope=col>&lt;int&gt;</th><th scope=col>&lt;int&gt;</th><th scope=col>&lt;dbl&gt;</th><th scope=col>&lt;chr&gt;</th><th scope=col>&lt;int&gt;</th><th scope=col>&lt;chr&gt;</th><th scope=col>&lt;chr&gt;</th></tr>\n",
       "</thead>\n",
       "<tbody>\n",
       "\t<tr><th scope=row>27815</th><td>Uzbekistan</td><td>2014</td><td>female</td><td>25-34 years</td><td>162</td><td>2735238</td><td>5.92</td><td>63,067,077,179</td><td>2309</td><td>Millenials  </td><td>Asia</td></tr>\n",
       "\t<tr><th scope=row>27816</th><td>Uzbekistan</td><td>2014</td><td>female</td><td>35-54 years</td><td>107</td><td>3620833</td><td>2.96</td><td>63,067,077,179</td><td>2309</td><td>Generation X</td><td>Asia</td></tr>\n",
       "\t<tr><th scope=row>27817</th><td>Uzbekistan</td><td>2014</td><td>female</td><td>75+ years  </td><td>  9</td><td> 348465</td><td>2.58</td><td>63,067,077,179</td><td>2309</td><td>Silent      </td><td>Asia</td></tr>\n",
       "\t<tr><th scope=row>27818</th><td>Uzbekistan</td><td>2014</td><td>male  </td><td>5-14 years </td><td> 60</td><td>2762158</td><td>2.17</td><td>63,067,077,179</td><td>2309</td><td>Generation Z</td><td>Asia</td></tr>\n",
       "\t<tr><th scope=row>27819</th><td>Uzbekistan</td><td>2014</td><td>female</td><td>5-14 years </td><td> 44</td><td>2631600</td><td>1.67</td><td>63,067,077,179</td><td>2309</td><td>Generation Z</td><td>Asia</td></tr>\n",
       "\t<tr><th scope=row>27820</th><td>Uzbekistan</td><td>2014</td><td>female</td><td>55-74 years</td><td> 21</td><td>1438935</td><td>1.46</td><td>63,067,077,179</td><td>2309</td><td>Boomers     </td><td>Asia</td></tr>\n",
       "</tbody>\n",
       "</table>\n"
      ],
      "text/latex": [
       "A data.frame: 6 × 11\n",
       "\\begin{tabular}{r|lllllllllll}\n",
       "  & country & year & sex & age & suicides\\_no & population & suicide\\_per\\_100k & gdp\\_for\\_year & gdp\\_per\\_cap & generation & continent\\\\\n",
       "  & <chr> & <int> & <chr> & <chr> & <int> & <int> & <dbl> & <chr> & <int> & <chr> & <chr>\\\\\n",
       "\\hline\n",
       "\t27815 & Uzbekistan & 2014 & female & 25-34 years & 162 & 2735238 & 5.92 & 63,067,077,179 & 2309 & Millenials   & Asia\\\\\n",
       "\t27816 & Uzbekistan & 2014 & female & 35-54 years & 107 & 3620833 & 2.96 & 63,067,077,179 & 2309 & Generation X & Asia\\\\\n",
       "\t27817 & Uzbekistan & 2014 & female & 75+ years   &   9 &  348465 & 2.58 & 63,067,077,179 & 2309 & Silent       & Asia\\\\\n",
       "\t27818 & Uzbekistan & 2014 & male   & 5-14 years  &  60 & 2762158 & 2.17 & 63,067,077,179 & 2309 & Generation Z & Asia\\\\\n",
       "\t27819 & Uzbekistan & 2014 & female & 5-14 years  &  44 & 2631600 & 1.67 & 63,067,077,179 & 2309 & Generation Z & Asia\\\\\n",
       "\t27820 & Uzbekistan & 2014 & female & 55-74 years &  21 & 1438935 & 1.46 & 63,067,077,179 & 2309 & Boomers      & Asia\\\\\n",
       "\\end{tabular}\n"
      ],
      "text/markdown": [
       "\n",
       "A data.frame: 6 × 11\n",
       "\n",
       "| <!--/--> | country &lt;chr&gt; | year &lt;int&gt; | sex &lt;chr&gt; | age &lt;chr&gt; | suicides_no &lt;int&gt; | population &lt;int&gt; | suicide_per_100k &lt;dbl&gt; | gdp_for_year &lt;chr&gt; | gdp_per_cap &lt;int&gt; | generation &lt;chr&gt; | continent &lt;chr&gt; |\n",
       "|---|---|---|---|---|---|---|---|---|---|---|---|\n",
       "| 27815 | Uzbekistan | 2014 | female | 25-34 years | 162 | 2735238 | 5.92 | 63,067,077,179 | 2309 | Millenials   | Asia |\n",
       "| 27816 | Uzbekistan | 2014 | female | 35-54 years | 107 | 3620833 | 2.96 | 63,067,077,179 | 2309 | Generation X | Asia |\n",
       "| 27817 | Uzbekistan | 2014 | female | 75+ years   |   9 |  348465 | 2.58 | 63,067,077,179 | 2309 | Silent       | Asia |\n",
       "| 27818 | Uzbekistan | 2014 | male   | 5-14 years  |  60 | 2762158 | 2.17 | 63,067,077,179 | 2309 | Generation Z | Asia |\n",
       "| 27819 | Uzbekistan | 2014 | female | 5-14 years  |  44 | 2631600 | 1.67 | 63,067,077,179 | 2309 | Generation Z | Asia |\n",
       "| 27820 | Uzbekistan | 2014 | female | 55-74 years |  21 | 1438935 | 1.46 | 63,067,077,179 | 2309 | Boomers      | Asia |\n",
       "\n"
      ],
      "text/plain": [
       "      country    year sex    age         suicides_no population\n",
       "27815 Uzbekistan 2014 female 25-34 years 162         2735238   \n",
       "27816 Uzbekistan 2014 female 35-54 years 107         3620833   \n",
       "27817 Uzbekistan 2014 female 75+ years     9          348465   \n",
       "27818 Uzbekistan 2014 male   5-14 years   60         2762158   \n",
       "27819 Uzbekistan 2014 female 5-14 years   44         2631600   \n",
       "27820 Uzbekistan 2014 female 55-74 years  21         1438935   \n",
       "      suicide_per_100k gdp_for_year   gdp_per_cap generation   continent\n",
       "27815 5.92             63,067,077,179 2309        Millenials   Asia     \n",
       "27816 2.96             63,067,077,179 2309        Generation X Asia     \n",
       "27817 2.58             63,067,077,179 2309        Silent       Asia     \n",
       "27818 2.17             63,067,077,179 2309        Generation Z Asia     \n",
       "27819 1.67             63,067,077,179 2309        Generation Z Asia     \n",
       "27820 1.46             63,067,077,179 2309        Boomers      Asia     "
      ]
     },
     "metadata": {},
     "output_type": "display_data"
    }
   ],
   "source": [
    "tail(suicides_data)"
   ]
  },
  {
   "cell_type": "code",
   "execution_count": 20,
   "metadata": {},
   "outputs": [
    {
     "data": {
      "text/html": [
       "31"
      ],
      "text/latex": [
       "31"
      ],
      "text/markdown": [
       "31"
      ],
      "text/plain": [
       "[1] 31"
      ]
     },
     "metadata": {},
     "output_type": "display_data"
    }
   ],
   "source": [
    "#number of unique years\n",
    "select(suicides_data, year) %>% unique %>% nrow"
   ]
  },
  {
   "cell_type": "code",
   "execution_count": 21,
   "metadata": {},
   "outputs": [
    {
     "data": {
      "text/html": [
       "<style>\n",
       ".list-inline {list-style: none; margin:0; padding: 0}\n",
       ".list-inline>li {display: inline-block}\n",
       ".list-inline>li:not(:last-child)::after {content: \"\\00b7\"; padding: 0 .5ex}\n",
       "</style>\n",
       "<ol class=list-inline><li>1985</li><li>1986</li><li>1987</li><li>1988</li><li>1989</li><li>1990</li><li>1991</li><li>1992</li><li>1993</li><li>1994</li><li>1995</li><li>1996</li><li>1997</li><li>1998</li><li>1999</li><li>2000</li><li>2001</li><li>2002</li><li>2003</li><li>2004</li><li>2005</li><li>2006</li><li>2007</li><li>2008</li><li>2009</li><li>2010</li><li>2011</li><li>2012</li><li>2013</li><li>2014</li><li>2015</li></ol>\n"
      ],
      "text/latex": [
       "\\begin{enumerate*}\n",
       "\\item 1985\n",
       "\\item 1986\n",
       "\\item 1987\n",
       "\\item 1988\n",
       "\\item 1989\n",
       "\\item 1990\n",
       "\\item 1991\n",
       "\\item 1992\n",
       "\\item 1993\n",
       "\\item 1994\n",
       "\\item 1995\n",
       "\\item 1996\n",
       "\\item 1997\n",
       "\\item 1998\n",
       "\\item 1999\n",
       "\\item 2000\n",
       "\\item 2001\n",
       "\\item 2002\n",
       "\\item 2003\n",
       "\\item 2004\n",
       "\\item 2005\n",
       "\\item 2006\n",
       "\\item 2007\n",
       "\\item 2008\n",
       "\\item 2009\n",
       "\\item 2010\n",
       "\\item 2011\n",
       "\\item 2012\n",
       "\\item 2013\n",
       "\\item 2014\n",
       "\\item 2015\n",
       "\\end{enumerate*}\n"
      ],
      "text/markdown": [
       "1. 1985\n",
       "2. 1986\n",
       "3. 1987\n",
       "4. 1988\n",
       "5. 1989\n",
       "6. 1990\n",
       "7. 1991\n",
       "8. 1992\n",
       "9. 1993\n",
       "10. 1994\n",
       "11. 1995\n",
       "12. 1996\n",
       "13. 1997\n",
       "14. 1998\n",
       "15. 1999\n",
       "16. 2000\n",
       "17. 2001\n",
       "18. 2002\n",
       "19. 2003\n",
       "20. 2004\n",
       "21. 2005\n",
       "22. 2006\n",
       "23. 2007\n",
       "24. 2008\n",
       "25. 2009\n",
       "26. 2010\n",
       "27. 2011\n",
       "28. 2012\n",
       "29. 2013\n",
       "30. 2014\n",
       "31. 2015\n",
       "\n",
       "\n"
      ],
      "text/plain": [
       " [1] 1985 1986 1987 1988 1989 1990 1991 1992 1993 1994 1995 1996 1997 1998 1999\n",
       "[16] 2000 2001 2002 2003 2004 2005 2006 2007 2008 2009 2010 2011 2012 2013 2014\n",
       "[31] 2015"
      ]
     },
     "metadata": {},
     "output_type": "display_data"
    }
   ],
   "source": [
    "#all years represented in data set\n",
    "unique(sort(suicides_data$year))"
   ]
  },
  {
   "cell_type": "code",
   "execution_count": 22,
   "metadata": {},
   "outputs": [],
   "source": [
    "# used to download csv file with cleaned data\n",
    "# write.csv(suicides_data,\"C:\\\\Users\\\\ACER\\\\Documents\\\\DataScience\\\\Suicide World Cleaned.csv\", row.names = FALSE)"
   ]
  },
  {
   "cell_type": "markdown",
   "metadata": {},
   "source": [
    "#### Outliers"
   ]
  },
  {
   "cell_type": "code",
   "execution_count": 23,
   "metadata": {
    "scrolled": false
   },
   "outputs": [
    {
     "data": {
      "image/png": "[encoded data removed]",
      "text/plain": [
       "plot without title"
      ]
     },
     "metadata": {
      "image/png": {
       "height": 420,
       "width": 420
      }
     },
     "output_type": "display_data"
    }
   ],
   "source": [
    "library(ggplot2)\n",
    "suicides %>% \n",
    "  dplyr::group_by(year) %>%  \n",
    "  ggplot(aes(x = year, y = suicide_per_100k, group = year)) + \n",
    "  geom_boxplot() + \n",
    "  labs(title = \"Global Suicides (per 100k) 1985 - 2015\",\n",
    "       x = \"Year\", \n",
    "       y = \"Suicides per 100k\") + \n",
    "  scale_x_continuous(breaks = seq(1985, 2015, 1)) + \n",
    "  theme(axis.text.x = element_text(angle = 90, hjust = 1))"
   ]
  },
  {
   "cell_type": "markdown",
   "metadata": {},
   "source": [
    "Outliers are identified but remained to be included on the report as these are the actual reported statistics from the source."
   ]
  },
  {
   "cell_type": "markdown",
   "metadata": {},
   "source": [
    "#### K-means Clustering for Top 50 Countries"
   ]
  },
  {
   "cell_type": "code",
   "execution_count": 24,
   "metadata": {},
   "outputs": [],
   "source": [
    "suicides_div = suicides_data %>% top_n(50, suicides_no) %>% select((suicides_no),(population))"
   ]
  },
  {
   "cell_type": "code",
   "execution_count": 25,
   "metadata": {},
   "outputs": [
    {
     "data": {
      "text/html": [
       "<table class=\"dataframe\">\n",
       "<caption>A matrix: 6 × 2 of type dbl</caption>\n",
       "<thead>\n",
       "\t<tr><th scope=col>suicides_no</th><th scope=col>population</th></tr>\n",
       "</thead>\n",
       "<tbody>\n",
       "\t<tr><td>-0.3225094</td><td>-0.5686589</td></tr>\n",
       "\t<tr><td>-0.2042754</td><td>-0.5335897</td></tr>\n",
       "\t<tr><td>-0.1486787</td><td>-0.5104726</td></tr>\n",
       "\t<tr><td> 0.5985992</td><td>-0.4983759</td></tr>\n",
       "\t<tr><td> 1.6746016</td><td>-0.5004242</td></tr>\n",
       "\t<tr><td>-0.7867054</td><td>-1.1612207</td></tr>\n",
       "</tbody>\n",
       "</table>\n"
      ],
      "text/latex": [
       "A matrix: 6 × 2 of type dbl\n",
       "\\begin{tabular}{ll}\n",
       " suicides\\_no & population\\\\\n",
       "\\hline\n",
       "\t -0.3225094 & -0.5686589\\\\\n",
       "\t -0.2042754 & -0.5335897\\\\\n",
       "\t -0.1486787 & -0.5104726\\\\\n",
       "\t  0.5985992 & -0.4983759\\\\\n",
       "\t  1.6746016 & -0.5004242\\\\\n",
       "\t -0.7867054 & -1.1612207\\\\\n",
       "\\end{tabular}\n"
      ],
      "text/markdown": [
       "\n",
       "A matrix: 6 × 2 of type dbl\n",
       "\n",
       "| suicides_no | population |\n",
       "|---|---|\n",
       "| -0.3225094 | -0.5686589 |\n",
       "| -0.2042754 | -0.5335897 |\n",
       "| -0.1486787 | -0.5104726 |\n",
       "|  0.5985992 | -0.4983759 |\n",
       "|  1.6746016 | -0.5004242 |\n",
       "| -0.7867054 | -1.1612207 |\n",
       "\n"
      ],
      "text/plain": [
       "     suicides_no population\n",
       "[1,] -0.3225094  -0.5686589\n",
       "[2,] -0.2042754  -0.5335897\n",
       "[3,] -0.1486787  -0.5104726\n",
       "[4,]  0.5985992  -0.4983759\n",
       "[5,]  1.6746016  -0.5004242\n",
       "[6,] -0.7867054  -1.1612207"
      ]
     },
     "metadata": {},
     "output_type": "display_data"
    }
   ],
   "source": [
    "suicides_div <- scale(suicides_div)\n",
    "head(suicides_div)"
   ]
  },
  {
   "cell_type": "code",
   "execution_count": 26,
   "metadata": {},
   "outputs": [
    {
     "name": "stderr",
     "output_type": "stream",
     "text": [
      "-- \u001b[1mAttaching packages\u001b[22m ------------------------------------------------------------------------------- tidyverse 1.3.1 --\n",
      "\n",
      "\u001b[32mv\u001b[39m \u001b[34mtibble \u001b[39m 3.1.2     \u001b[32mv\u001b[39m \u001b[34mpurrr  \u001b[39m 0.3.4\n",
      "\u001b[32mv\u001b[39m \u001b[34mtidyr  \u001b[39m 1.1.3     \u001b[32mv\u001b[39m \u001b[34mstringr\u001b[39m 1.4.0\n",
      "\u001b[32mv\u001b[39m \u001b[34mreadr  \u001b[39m 1.4.0     \u001b[32mv\u001b[39m \u001b[34mforcats\u001b[39m 0.5.1\n",
      "\n",
      "-- \u001b[1mConflicts\u001b[22m ---------------------------------------------------------------------------------- tidyverse_conflicts() --\n",
      "\u001b[31mx\u001b[39m \u001b[34mtidyr\u001b[39m::\u001b[32mextract()\u001b[39m   masks \u001b[34mmagrittr\u001b[39m::extract()\n",
      "\u001b[31mx\u001b[39m \u001b[34mdplyr\u001b[39m::\u001b[32mfilter()\u001b[39m    masks \u001b[34mstats\u001b[39m::filter()\n",
      "\u001b[31mx\u001b[39m \u001b[34mdplyr\u001b[39m::\u001b[32mlag()\u001b[39m       masks \u001b[34mstats\u001b[39m::lag()\n",
      "\u001b[31mx\u001b[39m \u001b[34mpurrr\u001b[39m::\u001b[32mset_names()\u001b[39m masks \u001b[34mmagrittr\u001b[39m::set_names()\n",
      "\n"
     ]
    }
   ],
   "source": [
    "library(\"tidyverse\", warn.conflicts = FALSE)"
   ]
  },
  {
   "cell_type": "code",
   "execution_count": 27,
   "metadata": {},
   "outputs": [
    {
     "name": "stderr",
     "output_type": "stream",
     "text": [
      "Welcome! Want to learn more? See two factoextra-related books at https://goo.gl/ve3WBa\n",
      "\n"
     ]
    }
   ],
   "source": [
    "library(\"factoextra\")\n",
    "library(\"cluster\")"
   ]
  },
  {
   "cell_type": "code",
   "execution_count": 28,
   "metadata": {},
   "outputs": [
    {
     "data": {
      "image/png": "[encoded data removed]",
      "text/plain": [
       "plot without title"
      ]
     },
     "metadata": {
      "image/png": {
       "height": 420,
       "width": 420
      }
     },
     "output_type": "display_data"
    }
   ],
   "source": [
    "distance <- get_dist(suicides_div)\n",
    "fviz_dist(distance, gradient = list(low = \"#00AFBB\", mid = \"white\", high = \"#FC4E07\"))"
   ]
  },
  {
   "cell_type": "code",
   "execution_count": 29,
   "metadata": {},
   "outputs": [],
   "source": [
    "suicides_divi <- na.omit(suicides_div)"
   ]
  },
  {
   "cell_type": "code",
   "execution_count": 30,
   "metadata": {},
   "outputs": [
    {
     "name": "stdout",
     "output_type": "stream",
     "text": [
      "List of 9\n",
      " $ cluster     : int [1:50] 1 1 1 1 1 1 1 1 1 1 ...\n",
      " $ centers     : num [1:2, 1:2] 0.285 -0.605 -0.65 1.382\n",
      "  ..- attr(*, \"dimnames\")=List of 2\n",
      "  .. ..$ : chr [1:2] \"1\" \"2\"\n",
      "  .. ..$ : chr [1:2] \"suicides_no\" \"population\"\n",
      " $ totss       : num 98\n",
      " $ withinss    : num [1:2] 43.794 0.652\n",
      " $ tot.withinss: num 44.4\n",
      " $ betweenss   : num 53.6\n",
      " $ size        : int [1:2] 34 16\n",
      " $ iter        : int 1\n",
      " $ ifault      : int 0\n",
      " - attr(*, \"class\")= chr \"kmeans\"\n"
     ]
    }
   ],
   "source": [
    "k2 <- kmeans(suicides_divi, centers = 2, nstart = 25)\n",
    "str(k2)"
   ]
  },
  {
   "cell_type": "code",
   "execution_count": 31,
   "metadata": {
    "scrolled": false
   },
   "outputs": [
    {
     "data": {
      "text/plain": [
       "K-means clustering with 2 clusters of sizes 34, 16\n",
       "\n",
       "Cluster means:\n",
       "  suicides_no population\n",
       "1   0.2848056 -0.6503265\n",
       "2  -0.6052119  1.3819437\n",
       "\n",
       "Clustering vector:\n",
       " [1] 1 1 1 1 1 1 1 1 1 1 1 1 1 1 1 1 1 1 1 1 1 1 1 1 1 1 1 1 1 1 1 1 1 1 2 2 2 2\n",
       "[39] 2 2 2 2 2 2 2 2 2 2 2 2\n",
       "\n",
       "Within cluster sum of squares by cluster:\n",
       "[1] 43.7938470  0.6520373\n",
       " (between_SS / total_SS =  54.6 %)\n",
       "\n",
       "Available components:\n",
       "\n",
       "[1] \"cluster\"      \"centers\"      \"totss\"        \"withinss\"     \"tot.withinss\"\n",
       "[6] \"betweenss\"    \"size\"         \"iter\"         \"ifault\"      "
      ]
     },
     "metadata": {},
     "output_type": "display_data"
    }
   ],
   "source": [
    "k2"
   ]
  },
  {
   "cell_type": "code",
   "execution_count": 32,
   "metadata": {},
   "outputs": [
    {
     "data": {
      "image/png": "[encoded data removed]",
      "text/plain": [
       "plot without title"
      ]
     },
     "metadata": {
      "image/png": {
       "height": 420,
       "width": 420
      }
     },
     "output_type": "display_data"
    }
   ],
   "source": [
    "fviz_cluster(k2, data = suicides_divi)"
   ]
  },
  {
   "cell_type": "code",
   "execution_count": 33,
   "metadata": {},
   "outputs": [
    {
     "name": "stderr",
     "output_type": "stream",
     "text": [
      "\n",
      "Attaching package: 'gridExtra'\n",
      "\n",
      "\n",
      "The following object is masked from 'package:dplyr':\n",
      "\n",
      "    combine\n",
      "\n",
      "\n"
     ]
    },
    {
     "data": {
      "image/png": "[encoded data removed]",
      "text/plain": [
       "plot without title"
      ]
     },
     "metadata": {
      "image/png": {
       "height": 420,
       "width": 420
      }
     },
     "output_type": "display_data"
    }
   ],
   "source": [
    "k3 <- kmeans(suicides_divi, centers = 3, nstart = 25)\n",
    "k4 <- kmeans(suicides_divi, centers = 4, nstart = 25)\n",
    "k5 <- kmeans(suicides_divi, centers = 5, nstart = 25)\n",
    "\n",
    "# plots to compare\n",
    "p1 <- fviz_cluster(k2, geom = \"point\", data = suicides_divi) + ggtitle(\"k = 2\")\n",
    "p2 <- fviz_cluster(k3, geom = \"point\",  data = suicides_divi) + ggtitle(\"k = 3\")\n",
    "p3 <- fviz_cluster(k4, geom = \"point\",  data = suicides_divi) + ggtitle(\"k = 4\")\n",
    "p4 <- fviz_cluster(k5, geom = \"point\",  data = suicides_divi) + ggtitle(\"k = 5\")\n",
    "library(gridExtra)\n",
    "grid.arrange(p1, p2, p3, p4, nrow = 2)"
   ]
  },
  {
   "cell_type": "markdown",
   "metadata": {},
   "source": [
    "### To Determine Optimal Clusters we are using:"
   ]
  },
  {
   "cell_type": "markdown",
   "metadata": {},
   "source": [
    "#### 1. elbow method"
   ]
  },
  {
   "cell_type": "code",
   "execution_count": 34,
   "metadata": {},
   "outputs": [
    {
     "data": {
      "image/png": "[encoded data removed]",
      "text/plain": [
       "plot without title"
      ]
     },
     "metadata": {
      "image/png": {
       "height": 420,
       "width": 420
      }
     },
     "output_type": "display_data"
    }
   ],
   "source": [
    "set.seed(123)\n",
    "\n",
    "# function to compute total within-cluster sum of square \n",
    "wss <- function(k) {\n",
    "  kmeans(suicides_divi, k, nstart = 10 )$tot.withinss\n",
    "}\n",
    "\n",
    "# Compute and plot wss for k = 1 to k = 15\n",
    "k.values <- 1:15\n",
    "\n",
    "# extract wss for 2-15 clusters\n",
    "wss_values <- map_dbl(k.values, wss)\n",
    "\n",
    "plot(k.values, wss_values,\n",
    "       type=\"b\", pch = 19, frame = FALSE, \n",
    "       xlab=\"Number of clusters K\",\n",
    "       ylab=\"Total within-clusters sum of squares\")"
   ]
  },
  {
   "cell_type": "code",
   "execution_count": 35,
   "metadata": {},
   "outputs": [
    {
     "data": {
      "image/png": "[encoded data removed]",
      "text/plain": [
       "plot without title"
      ]
     },
     "metadata": {
      "image/png": {
       "height": 420,
       "width": 420
      }
     },
     "output_type": "display_data"
    }
   ],
   "source": [
    "set.seed(123)\n",
    "\n",
    "fviz_nbclust(suicides_divi, kmeans, method = \"wss\")"
   ]
  },
  {
   "cell_type": "markdown",
   "metadata": {},
   "source": [
    "#### 2. silhouette method"
   ]
  },
  {
   "cell_type": "code",
   "execution_count": 36,
   "metadata": {},
   "outputs": [
    {
     "data": {
      "image/png": "[encoded data removed]",
      "text/plain": [
       "plot without title"
      ]
     },
     "metadata": {
      "image/png": {
       "height": 420,
       "width": 420
      }
     },
     "output_type": "display_data"
    }
   ],
   "source": [
    "# function to compute average silhouette for k clusters\n",
    "avg_sil <- function(k) {\n",
    "  km.res <- kmeans(suicides_divi, centers = k, nstart = 25)\n",
    "  ss <- silhouette(km.res$cluster, dist(suicides_divi))\n",
    "  mean(ss[, 3])\n",
    "}\n",
    "\n",
    "# Compute and plot wss for k = 2 to k = 15\n",
    "k.values <- 2:15\n",
    "\n",
    "# extract avg silhouette for 2-15 clusters\n",
    "avg_sil_values <- map_dbl(k.values, avg_sil)\n",
    "\n",
    "plot(k.values, avg_sil_values,\n",
    "       type = \"b\", pch = 19, frame = FALSE, \n",
    "       xlab = \"Number of clusters K\",\n",
    "       ylab = \"Average Silhouettes\")"
   ]
  },
  {
   "cell_type": "code",
   "execution_count": 37,
   "metadata": {},
   "outputs": [
    {
     "data": {
      "image/png": "[encoded data removed]",
      "text/plain": [
       "plot without title"
      ]
     },
     "metadata": {
      "image/png": {
       "height": 420,
       "width": 420
      }
     },
     "output_type": "display_data"
    }
   ],
   "source": [
    "fviz_nbclust(suicides_divi, kmeans, method = \"silhouette\")"
   ]
  },
  {
   "cell_type": "markdown",
   "metadata": {},
   "source": [
    "#### 3. gap statistic method"
   ]
  },
  {
   "cell_type": "code",
   "execution_count": 38,
   "metadata": {},
   "outputs": [
    {
     "name": "stdout",
     "output_type": "stream",
     "text": [
      "Clustering Gap statistic [\"clusGap\"] from call:\n",
      "clusGap(x = suicides_divi, FUNcluster = kmeans, K.max = 10, B = 50,     nstart = 25)\n",
      "B=50 simulated reference sets, k = 1..10; spaceH0=\"scaledPCA\"\n",
      " --> Number of clusters (method 'firstmax'): 5\n",
      "           logW   E.logW         gap     SE.sim\n",
      " [1,] 3.0578364 2.991125 -0.06671127 0.05989787\n",
      " [2,] 2.4923890 2.634820  0.14243073 0.06465665\n",
      " [3,] 1.7329950 2.379518  0.64652260 0.06355788\n",
      " [4,] 1.4266835 2.181630  0.75494687 0.06458356\n",
      " [5,] 1.1760256 2.024436  0.84841078 0.05364510\n",
      " [6,] 1.0493937 1.884665  0.83527165 0.05427027\n",
      " [7,] 0.8489650 1.770247  0.92128157 0.05746230\n",
      " [8,] 0.6928783 1.663941  0.97106269 0.06394121\n",
      " [9,] 0.5583405 1.562525  1.00418480 0.06836426\n",
      "[10,] 0.4442273 1.471844  1.02761690 0.07033901\n"
     ]
    }
   ],
   "source": [
    "# compute gap statistic\n",
    "set.seed(123)\n",
    "gap_stat <- clusGap(suicides_divi, FUN = kmeans, nstart = 25,\n",
    "                    K.max = 10, B = 50)\n",
    "# Print the result\n",
    "print(gap_stat, method = \"firstmax\")"
   ]
  },
  {
   "cell_type": "code",
   "execution_count": 39,
   "metadata": {},
   "outputs": [
    {
     "data": {
      "image/png": "[encoded data removed]",
      "text/plain": [
       "plot without title"
      ]
     },
     "metadata": {
      "image/png": {
       "height": 420,
       "width": 420
      }
     },
     "output_type": "display_data"
    }
   ],
   "source": [
    "fviz_gap_stat(gap_stat)"
   ]
  },
  {
   "cell_type": "code",
   "execution_count": 40,
   "metadata": {},
   "outputs": [
    {
     "name": "stdout",
     "output_type": "stream",
     "text": [
      "K-means clustering with 3 clusters of sizes 16, 20, 14\n",
      "\n",
      "Cluster means:\n",
      "  suicides_no population\n",
      "1  -0.6052119  1.3819437\n",
      "2  -0.5578121 -0.8312633\n",
      "3   1.4885451 -0.3918453\n",
      "\n",
      "Clustering vector:\n",
      " [1] 2 2 2 3 3 2 2 3 2 2 3 2 2 3 2 3 2 3 2 2 3 3 2 3 3 3 3 3 2 2 2 2 2 2 1 1 1 1\n",
      "[39] 1 1 1 1 1 1 1 1 1 1 1 1\n",
      "\n",
      "Within cluster sum of squares by cluster:\n",
      "[1] 0.6520373 4.3346983 3.3830762\n",
      " (between_SS / total_SS =  91.5 %)\n",
      "\n",
      "Available components:\n",
      "\n",
      "[1] \"cluster\"      \"centers\"      \"totss\"        \"withinss\"     \"tot.withinss\"\n",
      "[6] \"betweenss\"    \"size\"         \"iter\"         \"ifault\"      \n"
     ]
    }
   ],
   "source": [
    "# Compute k-means clustering with k = 3\n",
    "set.seed(123)\n",
    "final <- kmeans(suicides_divi, 3, nstart = 25)\n",
    "print(final)"
   ]
  },
  {
   "cell_type": "code",
   "execution_count": 41,
   "metadata": {},
   "outputs": [
    {
     "data": {
      "image/png": "[encoded data removed]",
      "text/plain": [
       "plot without title"
      ]
     },
     "metadata": {
      "image/png": {
       "height": 420,
       "width": 420
      }
     },
     "output_type": "display_data"
    }
   ],
   "source": [
    "fviz_cluster(final, data = suicides_divi)"
   ]
  },
  {
   "cell_type": "markdown",
   "metadata": {},
   "source": [
    "### Multiple Regression Analysis"
   ]
  },
  {
   "cell_type": "code",
   "execution_count": 42,
   "metadata": {},
   "outputs": [],
   "source": [
    "x <- suicides_data"
   ]
  },
  {
   "cell_type": "code",
   "execution_count": 43,
   "metadata": {
    "scrolled": false
   },
   "outputs": [],
   "source": [
    "united.states.suicide <- x[x$country=='United States',]\n",
    "year <- united.states.suicide$year\n",
    "sex <- united.states.suicide$sex\n",
    "age <- united.states.suicide$age\n",
    "gdp <- united.states.suicide$gdp_for_year\n",
    "gdp.capita <- united.states.suicide$gdp_per_cap\n",
    "generation <- united.states.suicide$generation\n",
    "response <- united.states.suicide$suicides_no"
   ]
  },
  {
   "cell_type": "code",
   "execution_count": 44,
   "metadata": {},
   "outputs": [
    {
     "data": {
      "image/png": "[encoded data removed]",
      "text/plain": [
       "Plot with title \"Suicides per 100k in the United States from 1985 to 2015\""
      ]
     },
     "metadata": {
      "image/png": {
       "height": 420,
       "width": 420
      }
     },
     "output_type": "display_data"
    }
   ],
   "source": [
    "plot(united.states.suicide$year, united.states.suicide$suicides_per_100k, \n",
    "     main=\"Suicides per 100k in the United States from 1985 to 2015\", xlab=\"Year\", ylab=\"Suicides/100k\")"
   ]
  },
  {
   "cell_type": "code",
   "execution_count": 45,
   "metadata": {},
   "outputs": [
    {
     "data": {
      "image/png": "[encoded data removed]",
      "text/plain": [
       "Plot with title \"Suicides per 100k for females in the United States from 1985 to 2015\""
      ]
     },
     "metadata": {
      "image/png": {
       "height": 420,
       "width": 420
      }
     },
     "output_type": "display_data"
    }
   ],
   "source": [
    "united.states.suicide.female <- united.states.suicide[united.states.suicide$sex == \"female\",]\n",
    "\n",
    "plot(united.states.suicide.female$year, united.states.suicide.female$suicides_per_100k, \n",
    "     main=\"Suicides per 100k for females in the United States from 1985 to 2015\", xlab=\"Year\", ylab=\"Suicides/100k\")"
   ]
  },
  {
   "cell_type": "code",
   "execution_count": 46,
   "metadata": {},
   "outputs": [
    {
     "data": {
      "image/png": "[encoded data removed]",
      "text/plain": [
       "Plot with title \"Suicides per 100k for males in the United States from 1985 to 2015\""
      ]
     },
     "metadata": {
      "image/png": {
       "height": 420,
       "width": 420
      }
     },
     "output_type": "display_data"
    }
   ],
   "source": [
    "united.states.suicide.male <- united.states.suicide[united.states.suicide$sex == \"male\",]\n",
    "\n",
    "plot(united.states.suicide.male$year, united.states.suicide.male$suicides_per_100k, \n",
    "     main=\"Suicides per 100k for males in the United States from 1985 to 2015\", xlab=\"Year\", ylab=\"Suicides/100k\")"
   ]
  },
  {
   "cell_type": "code",
   "execution_count": 47,
   "metadata": {},
   "outputs": [
    {
     "data": {
      "image/png": "[encoded data removed]",
      "text/plain": [
       "Plot with title \"Suicides per 100k for 5 to 14 year olds in the United States from 1985 to 2015\""
      ]
     },
     "metadata": {
      "image/png": {
       "height": 420,
       "width": 420
      }
     },
     "output_type": "display_data"
    }
   ],
   "source": [
    "united.states.suicide.5to14years <- united.states.suicide[united.states.suicide$age == \"5-14 years\",]\n",
    "plot(united.states.suicide.5to14years$year, united.states.suicide.5to14years$suicides_per_100k, \n",
    "     main=\"Suicides per 100k for 5 to 14 year olds in the United States from 1985 to 2015\", xlab=\"Year\", ylab=\"Suicides/100k\")"
   ]
  },
  {
   "cell_type": "code",
   "execution_count": 48,
   "metadata": {},
   "outputs": [
    {
     "data": {
      "image/png": "[encoded data removed]",
      "text/plain": [
       "Plot with title \"Suicides per 100k for 5 to 14 year old males in the United States from 1985 to 2015\""
      ]
     },
     "metadata": {
      "image/png": {
       "height": 420,
       "width": 420
      }
     },
     "output_type": "display_data"
    }
   ],
   "source": [
    "united.states.suicide.male.5to14years <- united.states.suicide.male[united.states.suicide.male$age == \"5-14 years\",]\n",
    "plot(united.states.suicide.male.5to14years$year, united.states.suicide.male.5to14years$suicides_per_100k, \n",
    "     main=\"Suicides per 100k for 5 to 14 year old males in the United States from 1985 to 2015\", xlab=\"Year\", ylab=\"Suicides/100k\")"
   ]
  },
  {
   "cell_type": "code",
   "execution_count": 49,
   "metadata": {},
   "outputs": [
    {
     "data": {
      "image/png": "[encoded data removed]",
      "text/plain": [
       "Plot with title \"Suicides per 100k for 5 to 14 year old females in the United States from 1985 to 2015\""
      ]
     },
     "metadata": {
      "image/png": {
       "height": 420,
       "width": 420
      }
     },
     "output_type": "display_data"
    }
   ],
   "source": [
    "united.states.suicide.female.5to14years <- united.states.suicide.female[united.states.suicide.female$age == \"5-14 years\",]\n",
    "plot(united.states.suicide.female.5to14years$year, united.states.suicide.female.5to14years$suicides_per_100k, \n",
    "     main=\"Suicides per 100k for 5 to 14 year old females in the United States from 1985 to 2015\", xlab=\"Year\", ylab=\"Suicides/100k\")"
   ]
  },
  {
   "cell_type": "code",
   "execution_count": 50,
   "metadata": {},
   "outputs": [
    {
     "data": {
      "text/plain": [
       "\n",
       "Call:\n",
       "lm(formula = response ~ year + sex * age)\n",
       "\n",
       "Residuals:\n",
       "     Min       1Q   Median       3Q      Max \n",
       "-2787.78  -330.53   -81.44   321.92  2891.87 \n",
       "\n",
       "Coefficients:\n",
       "                        Estimate Std. Error t value Pr(>|t|)    \n",
       "(Intercept)            -64985.52    7881.50  -8.245 3.14e-15 ***\n",
       "year                       32.86       3.94   8.340 1.61e-15 ***\n",
       "sexmale                  3092.68     172.65  17.913  < 2e-16 ***\n",
       "age25-34 years            351.39     172.65   2.035 0.042564 *  \n",
       "age35-54 years           2215.13     172.65  12.830  < 2e-16 ***\n",
       "age5-14 years            -659.87     172.65  -3.822 0.000156 ***\n",
       "age55-74 years            828.64     172.65   4.799 2.34e-06 ***\n",
       "age75+ years             -271.45     172.65  -1.572 0.116779    \n",
       "sexmale:age25-34 years    599.42     244.17   2.455 0.014565 *  \n",
       "sexmale:age35-54 years   3287.10     244.17  13.462  < 2e-16 ***\n",
       "sexmale:age5-14 years   -2962.71     244.17 -12.134  < 2e-16 ***\n",
       "sexmale:age55-74 years   1023.07     244.17   4.190 3.52e-05 ***\n",
       "sexmale:age75+ years     -941.03     244.17  -3.854 0.000138 ***\n",
       "---\n",
       "Signif. codes:  0 '***' 0.001 '**' 0.01 '*' 0.05 '.' 0.1 ' ' 1\n",
       "\n",
       "Residual standard error: 679.7 on 359 degrees of freedom\n",
       "Multiple R-squared:  0.941,\tAdjusted R-squared:  0.939 \n",
       "F-statistic: 477.1 on 12 and 359 DF,  p-value: < 2.2e-16\n"
      ]
     },
     "metadata": {},
     "output_type": "display_data"
    }
   ],
   "source": [
    "united.states.fit <- lm(response ~ year + sex * age + gdp + generation)\n",
    "united.states.fit <- lm(response ~ year + sex * age + gdp.capita) #year had a p-value of .79\n",
    "united.states.fit <- lm(response ~ sex * age + gdp.capita)\n",
    "united.states.fit <- lm(response ~ year + sex * age)\n",
    "summary(united.states.fit)"
   ]
  },
  {
   "cell_type": "code",
   "execution_count": 51,
   "metadata": {},
   "outputs": [
    {
     "data": {
      "image/png": "[encoded data removed]",
      "text/plain": [
       "Plot with title \"Residuals vs Fitted Values of suicides per 100k in the United States\""
      ]
     },
     "metadata": {
      "image/png": {
       "height": 420,
       "width": 420
      }
     },
     "output_type": "display_data"
    },
    {
     "data": {
      "image/png": "[encoded data removed]",
      "text/plain": [
       "Plot with title \"Residuals Scatterplot of Suicides per 100k in the United States\""
      ]
     },
     "metadata": {
      "image/png": {
       "height": 420,
       "width": 420
      }
     },
     "output_type": "display_data"
    }
   ],
   "source": [
    "fit.residuals <- residuals(united.states.fit)\n",
    "qqnorm(fit.residuals, pch = 1, xlab = \"Fitted values\", ylab = \"Residuals\", \n",
    "       main=\"Residuals vs Fitted Values of suicides per 100k in the United States\")\n",
    "qqline(fit.residuals, col = \"red\", lwd = 2)\n",
    "\n",
    "plot(fit.residuals, xlab = \"Fitted values\", ylab = \"Residuals\", \n",
    "     main=\"Residuals Scatterplot of Suicides per 100k in the United States\")"
   ]
  },
  {
   "cell_type": "markdown",
   "metadata": {},
   "source": [
    "### Histogram Visualization: GDP per Cap"
   ]
  },
  {
   "cell_type": "code",
   "execution_count": 52,
   "metadata": {},
   "outputs": [],
   "source": [
    "sorted_US <- suicides_data %>% filter(country==c(\"United States\"))\n",
    "sorted_UK <- suicides_data %>% filter(country==c(\"United Kingdom\"))"
   ]
  },
  {
   "cell_type": "code",
   "execution_count": 53,
   "metadata": {},
   "outputs": [
    {
     "name": "stderr",
     "output_type": "stream",
     "text": [
      "`stat_bin()` using `bins = 30`. Pick better value with `binwidth`.\n",
      "\n"
     ]
    },
    {
     "data": {
      "image/png": "[encoded data removed]",
      "text/plain": [
       "plot without title"
      ]
     },
     "metadata": {
      "image/png": {
       "height": 420,
       "width": 420
      }
     },
     "output_type": "display_data"
    }
   ],
   "source": [
    "#creating and printing the histogram for the US population\n",
    "hist_pop_US<- ggplot(sorted_US, aes(population)) + \n",
    "  geom_histogram(aes(y=..density..), color=\"red\", fill=\"white\") +\n",
    "  geom_density(fill=\"green\",  alpha=.5)\n",
    "\n",
    "hist_pop_US"
   ]
  },
  {
   "cell_type": "code",
   "execution_count": 54,
   "metadata": {},
   "outputs": [
    {
     "name": "stderr",
     "output_type": "stream",
     "text": [
      "`stat_bin()` using `bins = 30`. Pick better value with `binwidth`.\n",
      "\n"
     ]
    },
    {
     "data": {
      "image/png": "[encoded data removed]",
      "text/plain": [
       "plot without title"
      ]
     },
     "metadata": {
      "image/png": {
       "height": 420,
       "width": 420
      }
     },
     "output_type": "display_data"
    }
   ],
   "source": [
    "#creating and printing the histogram for the UK population\n",
    "hist_pop_UK<- ggplot(sorted_UK, aes(population)) + \n",
    "  geom_histogram(aes(y=..density..), color=\"red\", fill=\"white\") +\n",
    "  geom_density(fill=\"green\",  alpha=.5)\n",
    "\n",
    "hist_pop_US"
   ]
  },
  {
   "cell_type": "markdown",
   "metadata": {},
   "source": [
    "The data appears to be symmmetric. If it were to emulate the normal distribution, than the mean and median to be approximately equal."
   ]
  },
  {
   "cell_type": "code",
   "execution_count": 55,
   "metadata": {},
   "outputs": [
    {
     "data": {
      "text/plain": [
       "    Min.  1st Qu.   Median     Mean  3rd Qu.     Max. \n",
       " 4064000 18185450 20375469 21650611 22616944 43805214 "
      ]
     },
     "metadata": {},
     "output_type": "display_data"
    }
   ],
   "source": [
    "#US summary stats\n",
    "summary(sorted_US$population)"
   ]
  },
  {
   "cell_type": "code",
   "execution_count": 56,
   "metadata": {},
   "outputs": [
    {
     "data": {
      "text/plain": [
       "   Min. 1st Qu.  Median    Mean 3rd Qu.    Max. \n",
       "1202838 3620903 4121212 4674107 5810017 8881944 "
      ]
     },
     "metadata": {},
     "output_type": "display_data"
    }
   ],
   "source": [
    "#UK summary stats\n",
    "summary(sorted_UK$population)"
   ]
  },
  {
   "cell_type": "markdown",
   "metadata": {},
   "source": [
    "Mean for US: 21650611 & Median for US: 20375469\n",
    "\n",
    "Mean for UK: 4674107 & Median for UK: 4121212\n",
    "\n",
    "They are indeed approximately equal!"
   ]
  }
 ],
 "metadata": {
  "kernelspec": {
   "display_name": "R",
   "language": "R",
   "name": "ir"
  },
  "language_info": {
   "codemirror_mode": "r",
   "file_extension": ".r",
   "mimetype": "text/x-r-source",
   "name": "R",
   "pygments_lexer": "r",
   "version": "4.0.5"
  }
 },
 "nbformat": 4,
 "nbformat_minor": 4
}
